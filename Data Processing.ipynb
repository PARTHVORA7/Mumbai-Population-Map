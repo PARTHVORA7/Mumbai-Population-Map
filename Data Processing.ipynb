{
 "cells": [
  {
   "cell_type": "code",
   "execution_count": 2,
   "metadata": {
    "collapsed": false
   },
   "outputs": [
    {
     "data": {
      "text/html": [
       "<style>body {\n",
       "    margin: 0;\n",
       "    font-family: Helvetica;\n",
       "}\n",
       "table.dataframe {\n",
       "    border-collapse: collapse;\n",
       "    border: none;\n",
       "}\n",
       "table.dataframe tr {\n",
       "    border: none;\n",
       "}\n",
       "table.dataframe td, table.dataframe th {\n",
       "    margin: 0;\n",
       "    border: 1px solid white;\n",
       "    padding-left: 0.25em;\n",
       "    padding-right: 0.25em;\n",
       "}\n",
       "table.dataframe th:not(:empty) {\n",
       "    background-color: #fec;\n",
       "    text-align: left;\n",
       "    font-weight: normal;\n",
       "}\n",
       "table.dataframe tr:nth-child(2) th:empty {\n",
       "    border-left: none;\n",
       "    border-right: 1px dashed #888;\n",
       "}\n",
       "table.dataframe td {\n",
       "    border: 2px solid #ccf;\n",
       "    background-color: #f4f4ff;\n",
       "}\n",
       "h3 {\n",
       "    color: white;\n",
       "    background-color: black;\n",
       "    padding: 0.5em;\n",
       "}\n",
       "</style>"
      ],
      "text/plain": [
       "<IPython.core.display.HTML object>"
      ]
     },
     "execution_count": 2,
     "metadata": {},
     "output_type": "execute_result"
    }
   ],
   "source": [
    "from IPython.core.display import HTML\n",
    "css = open('/usr/local/style-table.css').read() + open('/usr/local/style-notebook.css').read()\n",
    "HTML('<style>{}</style>'.format(css))"
   ]
  },
  {
   "cell_type": "code",
   "execution_count": 3,
   "metadata": {
    "collapsed": true
   },
   "outputs": [],
   "source": [
    "import pandas as pd"
   ]
  },
  {
   "cell_type": "code",
   "execution_count": 9,
   "metadata": {
    "collapsed": true
   },
   "outputs": [],
   "source": [
    "df = pd.read_csv(\"Ward_Level_Data.csv\")\n",
    "df = df.set_index('Ward_Alphabet')\n",
    "num_cols = df.columns[9:len(df.columns)]\n",
    "df = df[num_cols].reset_index().groupby('Ward_Alphabet').sum()\n",
    "df = df.reset_index('Ward_Alphabet')"
   ]
  },
  {
   "cell_type": "code",
   "execution_count": 9,
   "metadata": {
    "collapsed": false
   },
   "outputs": [
    {
     "data": {
      "text/plain": [
       "0       A\n",
       "1       B\n",
       "2       C\n",
       "3       D\n",
       "4       E\n",
       "5     F/N\n",
       "6     F/S\n",
       "7     G/N\n",
       "8     G/S\n",
       "9     H/E\n",
       "10    H/W\n",
       "11    K/E\n",
       "12    K/W\n",
       "13      L\n",
       "14    M/E\n",
       "15    M/W\n",
       "16      N\n",
       "17    P/N\n",
       "18    P/S\n",
       "19    R/C\n",
       "20    R/N\n",
       "21    R/S\n",
       "22      S\n",
       "23      T\n",
       "Name: Ward_Alphabet, dtype: object"
      ]
     },
     "execution_count": 9,
     "metadata": {},
     "output_type": "execute_result"
    }
   ],
   "source": [
    "df.Ward_Alphabet\n",
    "\n"
   ]
  },
  {
   "cell_type": "code",
   "execution_count": 10,
   "metadata": {
    "collapsed": false
   },
   "outputs": [],
   "source": [
    "Ward_Names = ['Colaba', \n",
    "              'Sandhurst Road', \n",
    "              'Marine Lines', \n",
    "              'Grant Road', \n",
    "              'Byculla', \n",
    "              'Matunga', \n",
    "              'Parel', \n",
    "              'Dadar/Plaza', \n",
    "              'Elphinstone',\n",
    "              'Khar/Santacruz', \n",
    "              'Bandra', \n",
    "              'Andheri (East)', \n",
    "              'Andheri (West)', \n",
    "              'Kurla', \n",
    "              'Chembur', \n",
    "              'Chembur (West)', \n",
    "              'Ghatkopar', \n",
    "              'Malad', \n",
    "              'Goregaon', \n",
    "              'Borivali', \n",
    "              'Dahisar', \n",
    "              'Kandivali', \n",
    "              'Bhandup', \n",
    "              'Mulund']"
   ]
  },
  {
   "cell_type": "code",
   "execution_count": 11,
   "metadata": {
    "collapsed": false
   },
   "outputs": [],
   "source": [
    "df['Ward_Names'] = Ward_Names"
   ]
  },
  {
   "cell_type": "code",
   "execution_count": 12,
   "metadata": {
    "collapsed": false
   },
   "outputs": [],
   "source": [
    "# Reference: http://www.demographia.com/db-mumbaidistr91.htm\n",
    "df['Land_Area'] = [12.5, \n",
    "                   2.5, \n",
    "                   1.8, \n",
    "                   6.6, \n",
    "                   7.4, \n",
    "                   13.0, \n",
    "                   14.0, \n",
    "                   9.1, \n",
    "                   10.0, \n",
    "                   13.5, \n",
    "                   11.6, \n",
    "                   24.8, \n",
    "                   23.4, \n",
    "                   15.9, \n",
    "                   32.5, \n",
    "                   19.5, \n",
    "                   26.0, \n",
    "                   19.1, \n",
    "                   24.4,\n",
    "                   50.0, \n",
    "                   18.0, \n",
    "                   17.8, \n",
    "                   64.0, \n",
    "                   45.4 ]"
   ]
  },
  {
   "cell_type": "code",
   "execution_count": 15,
   "metadata": {
    "collapsed": false
   },
   "outputs": [
    {
     "data": {
      "text/html": [
       "<div>\n",
       "<table border=\"1\" class=\"dataframe\">\n",
       "  <thead>\n",
       "    <tr style=\"text-align: right;\">\n",
       "      <th></th>\n",
       "      <th>Ward_Alphabet</th>\n",
       "      <th>Ward_Names</th>\n",
       "      <th>Land_Area</th>\n",
       "    </tr>\n",
       "  </thead>\n",
       "  <tbody>\n",
       "    <tr>\n",
       "      <th>0</th>\n",
       "      <td>A</td>\n",
       "      <td>Colaba</td>\n",
       "      <td>12.5</td>\n",
       "    </tr>\n",
       "    <tr>\n",
       "      <th>1</th>\n",
       "      <td>B</td>\n",
       "      <td>Sandhurst Road</td>\n",
       "      <td>2.5</td>\n",
       "    </tr>\n",
       "    <tr>\n",
       "      <th>2</th>\n",
       "      <td>C</td>\n",
       "      <td>Marine Lines</td>\n",
       "      <td>1.8</td>\n",
       "    </tr>\n",
       "    <tr>\n",
       "      <th>3</th>\n",
       "      <td>D</td>\n",
       "      <td>Grant Road</td>\n",
       "      <td>6.6</td>\n",
       "    </tr>\n",
       "    <tr>\n",
       "      <th>4</th>\n",
       "      <td>E</td>\n",
       "      <td>Byculla</td>\n",
       "      <td>7.4</td>\n",
       "    </tr>\n",
       "    <tr>\n",
       "      <th>5</th>\n",
       "      <td>F/N</td>\n",
       "      <td>Matunga</td>\n",
       "      <td>13.0</td>\n",
       "    </tr>\n",
       "    <tr>\n",
       "      <th>6</th>\n",
       "      <td>F/S</td>\n",
       "      <td>Parel</td>\n",
       "      <td>14.0</td>\n",
       "    </tr>\n",
       "    <tr>\n",
       "      <th>7</th>\n",
       "      <td>G/N</td>\n",
       "      <td>Dadar/Plaza</td>\n",
       "      <td>9.1</td>\n",
       "    </tr>\n",
       "    <tr>\n",
       "      <th>8</th>\n",
       "      <td>G/S</td>\n",
       "      <td>Elphinstone</td>\n",
       "      <td>10.0</td>\n",
       "    </tr>\n",
       "    <tr>\n",
       "      <th>9</th>\n",
       "      <td>H/E</td>\n",
       "      <td>Khar/Santacruz</td>\n",
       "      <td>13.5</td>\n",
       "    </tr>\n",
       "    <tr>\n",
       "      <th>10</th>\n",
       "      <td>H/W</td>\n",
       "      <td>Bandra</td>\n",
       "      <td>11.6</td>\n",
       "    </tr>\n",
       "    <tr>\n",
       "      <th>11</th>\n",
       "      <td>K/E</td>\n",
       "      <td>Andheri (East)</td>\n",
       "      <td>24.8</td>\n",
       "    </tr>\n",
       "    <tr>\n",
       "      <th>12</th>\n",
       "      <td>K/W</td>\n",
       "      <td>Andheri (West)</td>\n",
       "      <td>23.4</td>\n",
       "    </tr>\n",
       "    <tr>\n",
       "      <th>13</th>\n",
       "      <td>L</td>\n",
       "      <td>Kurla</td>\n",
       "      <td>15.9</td>\n",
       "    </tr>\n",
       "    <tr>\n",
       "      <th>14</th>\n",
       "      <td>M/E</td>\n",
       "      <td>Chembur</td>\n",
       "      <td>32.5</td>\n",
       "    </tr>\n",
       "    <tr>\n",
       "      <th>15</th>\n",
       "      <td>M/W</td>\n",
       "      <td>Chembur (West)</td>\n",
       "      <td>19.5</td>\n",
       "    </tr>\n",
       "    <tr>\n",
       "      <th>16</th>\n",
       "      <td>N</td>\n",
       "      <td>Ghatkopar</td>\n",
       "      <td>26.0</td>\n",
       "    </tr>\n",
       "    <tr>\n",
       "      <th>17</th>\n",
       "      <td>P/N</td>\n",
       "      <td>Malad</td>\n",
       "      <td>19.1</td>\n",
       "    </tr>\n",
       "    <tr>\n",
       "      <th>18</th>\n",
       "      <td>P/S</td>\n",
       "      <td>Goregaon</td>\n",
       "      <td>24.4</td>\n",
       "    </tr>\n",
       "    <tr>\n",
       "      <th>19</th>\n",
       "      <td>R/C</td>\n",
       "      <td>Borivali</td>\n",
       "      <td>50.0</td>\n",
       "    </tr>\n",
       "    <tr>\n",
       "      <th>20</th>\n",
       "      <td>R/N</td>\n",
       "      <td>Dahisar</td>\n",
       "      <td>18.0</td>\n",
       "    </tr>\n",
       "    <tr>\n",
       "      <th>21</th>\n",
       "      <td>R/S</td>\n",
       "      <td>Kandivali</td>\n",
       "      <td>17.8</td>\n",
       "    </tr>\n",
       "    <tr>\n",
       "      <th>22</th>\n",
       "      <td>S</td>\n",
       "      <td>Bhandup</td>\n",
       "      <td>64.0</td>\n",
       "    </tr>\n",
       "    <tr>\n",
       "      <th>23</th>\n",
       "      <td>T</td>\n",
       "      <td>Mulund</td>\n",
       "      <td>45.4</td>\n",
       "    </tr>\n",
       "  </tbody>\n",
       "</table>\n",
       "</div>"
      ],
      "text/plain": [
       "   Ward_Alphabet      Ward_Names  Land_Area\n",
       "0              A          Colaba       12.5\n",
       "1              B  Sandhurst Road        2.5\n",
       "2              C    Marine Lines        1.8\n",
       "3              D      Grant Road        6.6\n",
       "4              E         Byculla        7.4\n",
       "5            F/N         Matunga       13.0\n",
       "6            F/S           Parel       14.0\n",
       "7            G/N     Dadar/Plaza        9.1\n",
       "8            G/S     Elphinstone       10.0\n",
       "9            H/E  Khar/Santacruz       13.5\n",
       "10           H/W          Bandra       11.6\n",
       "11           K/E  Andheri (East)       24.8\n",
       "12           K/W  Andheri (West)       23.4\n",
       "13             L           Kurla       15.9\n",
       "14           M/E         Chembur       32.5\n",
       "15           M/W  Chembur (West)       19.5\n",
       "16             N       Ghatkopar       26.0\n",
       "17           P/N           Malad       19.1\n",
       "18           P/S        Goregaon       24.4\n",
       "19           R/C        Borivali       50.0\n",
       "20           R/N         Dahisar       18.0\n",
       "21           R/S       Kandivali       17.8\n",
       "22             S         Bhandup       64.0\n",
       "23             T          Mulund       45.4"
      ]
     },
     "execution_count": 15,
     "metadata": {},
     "output_type": "execute_result"
    }
   ],
   "source": [
    "df[['Ward_Alphabet', 'Ward_Names', 'Land_Area']]"
   ]
  },
  {
   "cell_type": "code",
   "execution_count": 22,
   "metadata": {
    "collapsed": false
   },
   "outputs": [],
   "source": [
    "df['TOT_P_DEN'] = df['TOT_P_DEN'].map(lambda x : round(x, 2))"
   ]
  },
  {
   "cell_type": "code",
   "execution_count": 23,
   "metadata": {
    "collapsed": true
   },
   "outputs": [],
   "source": [
    "df.to_csv('ward_level_collated.csv')"
   ]
  },
  {
   "cell_type": "code",
   "execution_count": null,
   "metadata": {
    "collapsed": true
   },
   "outputs": [],
   "source": []
  },
  {
   "cell_type": "code",
   "execution_count": null,
   "metadata": {
    "collapsed": true
   },
   "outputs": [],
   "source": []
  },
  {
   "cell_type": "code",
   "execution_count": null,
   "metadata": {
    "collapsed": true
   },
   "outputs": [],
   "source": []
  },
  {
   "cell_type": "code",
   "execution_count": null,
   "metadata": {
    "collapsed": true
   },
   "outputs": [],
   "source": []
  },
  {
   "cell_type": "code",
   "execution_count": null,
   "metadata": {
    "collapsed": true
   },
   "outputs": [],
   "source": []
  }
 ],
 "metadata": {
  "kernelspec": {
   "display_name": "Python 2",
   "language": "python",
   "name": "python2"
  },
  "language_info": {
   "codemirror_mode": {
    "name": "ipython",
    "version": 2
   },
   "file_extension": ".py",
   "mimetype": "text/x-python",
   "name": "python",
   "nbconvert_exporter": "python",
   "pygments_lexer": "ipython2",
   "version": "2.7.11"
  }
 },
 "nbformat": 4,
 "nbformat_minor": 0
}
